{
 "cells": [
  {
   "cell_type": "code",
   "execution_count": 81,
   "id": "d1138df7-a018-4c2a-a1b3-8b8b5104db88",
   "metadata": {},
   "outputs": [
    {
     "name": "stderr",
     "output_type": "stream",
     "text": [
      "Device set to use cpu\n"
     ]
    }
   ],
   "source": [
    "# Step 1: Imports and Paths\n",
    "\n",
    "import os\n",
    "import pandas as pd\n",
    "from PIL import Image\n",
    "import pytesseract\n",
    "from docx import Document\n",
    "from transformers import pipeline\n",
    "\n",
    "\n",
    "pytesseract.pytesseract.tesseract_cmd = r\"C:\\Program Files\\Tesseract-OCR\\tesseract.exe\"\n",
    "\n",
    "# File Paths (adjust if needed)\n",
    "TRAIN_CSV = \"train.csv\"\n",
    "TEST_CSV = \"test.csv\"\n",
    "TRAIN_FOLDER = \"train folder\"\n",
    "TEST_FOLDER = \"test folder\"\n",
    "# Load QA model pipeline\n",
    "qa_model = pipeline(\"question-answering\", model=\"distilbert-base-uncased-distilled-squad\")\n"
   ]
  },
  {
   "cell_type": "code",
   "execution_count": 85,
   "id": "71d47266-387e-4b61-ac83-8acb94ce62e3",
   "metadata": {},
   "outputs": [
    {
     "name": "stderr",
     "output_type": "stream",
     "text": [
      "Device set to use cpu\n"
     ]
    }
   ],
   "source": [
    "pytesseract.pytesseract.tesseract_cmd = r\"C:\\Program Files\\Tesseract-OCR\\tesseract.exe\"\n",
    "\n",
    "# Load QA model\n",
    "qa_model = pipeline(\"question-answering\", model=\"distilbert-base-uncased-distilled-squad\")\n",
    "\n",
    "# 6 Standard Questions\n",
    "STANDARD_QUESTIONS = [\n",
    "    \"What is the Agreement Value?\",\n",
    "    \"What is the Agreement Start Date?\",\n",
    "    \"What is the Agreement End Date?\",\n",
    "    \"What is the Renewal Notice (Days)?\",\n",
    "    \"Who is Party One?\",\n",
    "    \"Who is Party Two?\"\n",
    "]\n",
    "\n",
    "# Text extractor\n",
    "def extract_text(file_path):\n",
    "    if file_path.lower().endswith(\".docx\"):\n",
    "        try:\n",
    "            doc = Document(file_path)\n",
    "            return \"\\n\".join([p.text for p in doc.paragraphs])\n",
    "        except Exception as e:\n",
    "            print(f\"DOCX Error: {e}\")\n",
    "            return \"\"\n",
    "    elif file_path.lower().endswith(\".png\"):\n",
    "        try:\n",
    "            image = Image.open(file_path)\n",
    "            return pytesseract.image_to_string(image)\n",
    "        except Exception as e:\n",
    "            print(f\"Image Error: {e}\")\n",
    "            return \"\"\n",
    "    else:\n",
    "        return \"\"\n",
    "\n",
    "# Answer generator\n",
    "def ask_metadata_questions(file_path):\n",
    "    context = extract_text(file_path)\n",
    "    if not context:\n",
    "        print(\"❌ No text extracted.\")\n",
    "        return pd.DataFrame()\n",
    "\n",
    "    result = []\n",
    "    for q in STANDARD_QUESTIONS:\n",
    "        try:\n",
    "            answer = qa_model(question=q, context=context)[\"answer\"]\n",
    "        except:\n",
    "            answer = \"Not Found\"\n",
    "        result.append({\"File Name\": os.path.basename(file_path), \"Question\": q, \"Answer\": answer})\n",
    "    \n",
    "    return pd.DataFrame(result)\n",
    "\n"
   ]
  },
  {
   "cell_type": "code",
   "execution_count": 87,
   "id": "f7f1e2b5-7acf-4e80-a2f6-eafe81c865d8",
   "metadata": {},
   "outputs": [
    {
     "name": "stdin",
     "output_type": "stream",
     "text": [
      "Enter file path (e.g., train/123.docx or test/456.png):  Train folder/44737744-Maddireddy-Bhargava-Reddy-Rental-Agreement.docx\n"
     ]
    },
    {
     "data": {
      "text/html": [
       "<div>\n",
       "<style scoped>\n",
       "    .dataframe tbody tr th:only-of-type {\n",
       "        vertical-align: middle;\n",
       "    }\n",
       "\n",
       "    .dataframe tbody tr th {\n",
       "        vertical-align: top;\n",
       "    }\n",
       "\n",
       "    .dataframe thead th {\n",
       "        text-align: right;\n",
       "    }\n",
       "</style>\n",
       "<table border=\"1\" class=\"dataframe\">\n",
       "  <thead>\n",
       "    <tr style=\"text-align: right;\">\n",
       "      <th></th>\n",
       "      <th>File Name</th>\n",
       "      <th>Question</th>\n",
       "      <th>Answer</th>\n",
       "    </tr>\n",
       "  </thead>\n",
       "  <tbody>\n",
       "    <tr>\n",
       "      <th>0</th>\n",
       "      <td>44737744-Maddireddy-Bhargava-Reddy-Rental-Agreement.docx</td>\n",
       "      <td>What is the Agreement Value?</td>\n",
       "      <td>Rs\\t9.99.7.9°\\t p.m.</td>\n",
       "    </tr>\n",
       "    <tr>\n",
       "      <th>1</th>\n",
       "      <td>44737744-Maddireddy-Bhargava-Reddy-Rental-Agreement.docx</td>\n",
       "      <td>What is the Agreement Start Date?</td>\n",
       "      <td>2010</td>\n",
       "    </tr>\n",
       "    <tr>\n",
       "      <th>2</th>\n",
       "      <td>44737744-Maddireddy-Bhargava-Reddy-Rental-Agreement.docx</td>\n",
       "      <td>What is the Agreement End Date?</td>\n",
       "      <td>2010</td>\n",
       "    </tr>\n",
       "    <tr>\n",
       "      <th>3</th>\n",
       "      <td>44737744-Maddireddy-Bhargava-Reddy-Rental-Agreement.docx</td>\n",
       "      <td>What is the Renewal Notice (Days)?</td>\n",
       "      <td>11 months</td>\n",
       "    </tr>\n",
       "    <tr>\n",
       "      <th>4</th>\n",
       "      <td>44737744-Maddireddy-Bhargava-Reddy-Rental-Agreement.docx</td>\n",
       "      <td>Who is Party One?</td>\n",
       "      <td>Resident iai__|iroofo</td>\n",
       "    </tr>\n",
       "    <tr>\n",
       "      <th>5</th>\n",
       "      <td>44737744-Maddireddy-Bhargava-Reddy-Rental-Agreement.docx</td>\n",
       "      <td>Who is Party Two?</td>\n",
       "      <td>Resident iai__|iroofo</td>\n",
       "    </tr>\n",
       "  </tbody>\n",
       "</table>\n",
       "</div>"
      ],
      "text/plain": [
       "                                                  File Name  \\\n",
       "0  44737744-Maddireddy-Bhargava-Reddy-Rental-Agreement.docx   \n",
       "1  44737744-Maddireddy-Bhargava-Reddy-Rental-Agreement.docx   \n",
       "2  44737744-Maddireddy-Bhargava-Reddy-Rental-Agreement.docx   \n",
       "3  44737744-Maddireddy-Bhargava-Reddy-Rental-Agreement.docx   \n",
       "4  44737744-Maddireddy-Bhargava-Reddy-Rental-Agreement.docx   \n",
       "5  44737744-Maddireddy-Bhargava-Reddy-Rental-Agreement.docx   \n",
       "\n",
       "                             Question                 Answer  \n",
       "0        What is the Agreement Value?   Rs\\t9.99.7.9°\\t p.m.  \n",
       "1   What is the Agreement Start Date?                   2010  \n",
       "2     What is the Agreement End Date?                   2010  \n",
       "3  What is the Renewal Notice (Days)?              11 months  \n",
       "4                   Who is Party One?  Resident iai__|iroofo  \n",
       "5                   Who is Party Two?  Resident iai__|iroofo  "
      ]
     },
     "metadata": {},
     "output_type": "display_data"
    }
   ],
   "source": [
    "# Example usage\n",
    "file_path = input(\"Enter file path (e.g., train/123.docx or test/456.png): \").strip()\n",
    "\n",
    "if os.path.exists(file_path):\n",
    "    result_df = ask_metadata_questions(file_path)\n",
    "    display(result_df)\n",
    "    result_df.to_csv(\"output_answers.csv\", index=False)\n",
    "else:\n",
    "    print(\"File not found.\")\n"
   ]
  },
  {
   "cell_type": "code",
   "execution_count": 120,
   "id": "0edf29e6-f97e-46af-83c8-323186ccf449",
   "metadata": {},
   "outputs": [
    {
     "name": "stdout",
     "output_type": "stream",
     "text": [
      "Collecting fastapi\n",
      "  Downloading fastapi-0.115.14-py3-none-any.whl.metadata (27 kB)\n",
      "Collecting uvicorn\n",
      "  Downloading uvicorn-0.35.0-py3-none-any.whl.metadata (6.5 kB)\n",
      "Requirement already satisfied: nest_asyncio in c:\\users\\samra\\anaconda3\\lib\\site-packages (1.6.0)\n",
      "Collecting python-multipart\n",
      "  Downloading python_multipart-0.0.20-py3-none-any.whl.metadata (1.8 kB)\n",
      "Requirement already satisfied: transformers in c:\\users\\samra\\anaconda3\\lib\\site-packages (4.53.0)\n",
      "Requirement already satisfied: pytesseract in c:\\users\\samra\\anaconda3\\lib\\site-packages (0.3.13)\n",
      "Requirement already satisfied: python-docx in c:\\users\\samra\\anaconda3\\lib\\site-packages (1.2.0)\n",
      "Requirement already satisfied: Pillow in c:\\users\\samra\\anaconda3\\lib\\site-packages (10.4.0)\n",
      "Collecting starlette<0.47.0,>=0.40.0 (from fastapi)\n",
      "  Downloading starlette-0.46.2-py3-none-any.whl.metadata (6.2 kB)\n",
      "Requirement already satisfied: pydantic!=1.8,!=1.8.1,!=2.0.0,!=2.0.1,!=2.1.0,<3.0.0,>=1.7.4 in c:\\users\\samra\\anaconda3\\lib\\site-packages (from fastapi) (2.8.2)\n",
      "Requirement already satisfied: typing-extensions>=4.8.0 in c:\\users\\samra\\anaconda3\\lib\\site-packages (from fastapi) (4.11.0)\n",
      "Requirement already satisfied: click>=7.0 in c:\\users\\samra\\anaconda3\\lib\\site-packages (from uvicorn) (8.1.7)\n",
      "Requirement already satisfied: h11>=0.8 in c:\\users\\samra\\anaconda3\\lib\\site-packages (from uvicorn) (0.14.0)\n",
      "Requirement already satisfied: filelock in c:\\users\\samra\\anaconda3\\lib\\site-packages (from transformers) (3.13.1)\n",
      "Requirement already satisfied: huggingface-hub<1.0,>=0.30.0 in c:\\users\\samra\\anaconda3\\lib\\site-packages (from transformers) (0.32.4)\n",
      "Requirement already satisfied: numpy>=1.17 in c:\\users\\samra\\anaconda3\\lib\\site-packages (from transformers) (1.26.4)\n",
      "Requirement already satisfied: packaging>=20.0 in c:\\users\\samra\\anaconda3\\lib\\site-packages (from transformers) (24.1)\n",
      "Requirement already satisfied: pyyaml>=5.1 in c:\\users\\samra\\anaconda3\\lib\\site-packages (from transformers) (6.0.1)\n",
      "Requirement already satisfied: regex!=2019.12.17 in c:\\users\\samra\\anaconda3\\lib\\site-packages (from transformers) (2024.9.11)\n",
      "Requirement already satisfied: requests in c:\\users\\samra\\anaconda3\\lib\\site-packages (from transformers) (2.32.3)\n",
      "Requirement already satisfied: tokenizers<0.22,>=0.21 in c:\\users\\samra\\anaconda3\\lib\\site-packages (from transformers) (0.21.2)\n",
      "Requirement already satisfied: safetensors>=0.4.3 in c:\\users\\samra\\anaconda3\\lib\\site-packages (from transformers) (0.5.3)\n",
      "Requirement already satisfied: tqdm>=4.27 in c:\\users\\samra\\anaconda3\\lib\\site-packages (from transformers) (4.66.5)\n",
      "Requirement already satisfied: lxml>=3.1.0 in c:\\users\\samra\\anaconda3\\lib\\site-packages (from python-docx) (5.2.1)\n",
      "Requirement already satisfied: colorama in c:\\users\\samra\\anaconda3\\lib\\site-packages (from click>=7.0->uvicorn) (0.4.6)\n",
      "Requirement already satisfied: fsspec>=2023.5.0 in c:\\users\\samra\\anaconda3\\lib\\site-packages (from huggingface-hub<1.0,>=0.30.0->transformers) (2024.6.1)\n",
      "Requirement already satisfied: annotated-types>=0.4.0 in c:\\users\\samra\\anaconda3\\lib\\site-packages (from pydantic!=1.8,!=1.8.1,!=2.0.0,!=2.0.1,!=2.1.0,<3.0.0,>=1.7.4->fastapi) (0.6.0)\n",
      "Requirement already satisfied: pydantic-core==2.20.1 in c:\\users\\samra\\anaconda3\\lib\\site-packages (from pydantic!=1.8,!=1.8.1,!=2.0.0,!=2.0.1,!=2.1.0,<3.0.0,>=1.7.4->fastapi) (2.20.1)\n",
      "Requirement already satisfied: anyio<5,>=3.6.2 in c:\\users\\samra\\anaconda3\\lib\\site-packages (from starlette<0.47.0,>=0.40.0->fastapi) (4.2.0)\n",
      "Requirement already satisfied: charset-normalizer<4,>=2 in c:\\users\\samra\\anaconda3\\lib\\site-packages (from requests->transformers) (3.3.2)\n",
      "Requirement already satisfied: idna<4,>=2.5 in c:\\users\\samra\\anaconda3\\lib\\site-packages (from requests->transformers) (3.7)\n",
      "Requirement already satisfied: urllib3<3,>=1.21.1 in c:\\users\\samra\\anaconda3\\lib\\site-packages (from requests->transformers) (2.2.3)\n",
      "Requirement already satisfied: certifi>=2017.4.17 in c:\\users\\samra\\anaconda3\\lib\\site-packages (from requests->transformers) (2025.1.31)\n",
      "Requirement already satisfied: sniffio>=1.1 in c:\\users\\samra\\anaconda3\\lib\\site-packages (from anyio<5,>=3.6.2->starlette<0.47.0,>=0.40.0->fastapi) (1.3.0)\n",
      "Downloading fastapi-0.115.14-py3-none-any.whl (95 kB)\n",
      "Downloading uvicorn-0.35.0-py3-none-any.whl (66 kB)\n",
      "Downloading python_multipart-0.0.20-py3-none-any.whl (24 kB)\n",
      "Downloading starlette-0.46.2-py3-none-any.whl (72 kB)\n",
      "Installing collected packages: python-multipart, uvicorn, starlette, fastapi\n",
      "Successfully installed fastapi-0.115.14 python-multipart-0.0.20 starlette-0.46.2 uvicorn-0.35.0\n"
     ]
    }
   ],
   "source": [
    "!pip install fastapi uvicorn nest_asyncio python-multipart transformers pytesseract python-docx Pillow\n"
   ]
  },
  {
   "cell_type": "code",
   "execution_count": 122,
   "id": "136d63b5-98dc-4b3b-b9ac-d9a172bb89f2",
   "metadata": {},
   "outputs": [
    {
     "name": "stderr",
     "output_type": "stream",
     "text": [
      "Device set to use cpu\n"
     ]
    }
   ],
   "source": [
    "from fastapi import FastAPI, UploadFile, File\n",
    "from fastapi.responses import JSONResponse\n",
    "from transformers import pipeline\n",
    "from PIL import Image\n",
    "from docx import Document\n",
    "import pytesseract\n",
    "import os\n",
    "import nest_asyncio\n",
    "import uvicorn\n",
    "\n",
    "# Enable nested event loops (required for Jupyter)\n",
    "nest_asyncio.apply()\n",
    "\n",
    "# Load QA model\n",
    "qa_model = pipeline(\"question-answering\", model=\"distilbert-base-uncased-distilled-squad\")\n",
    "\n",
    "# Define questions\n",
    "QUESTIONS = [\n",
    "    \"What is the Agreement Value?\",\n",
    "    \"What is the Agreement Start Date?\",\n",
    "    \"What is the Agreement End Date?\",\n",
    "    \"What is the Renewal Notice (Days)?\",\n",
    "    \"Who is Party One?\",\n",
    "    \"Who is Party Two?\"\n",
    "]\n",
    "\n",
    "# Text extraction function\n",
    "def extract_text(file_path):\n",
    "    if file_path.endswith(\".docx\"):\n",
    "        doc = Document(file_path)\n",
    "        return \"\\n\".join([p.text for p in doc.paragraphs])\n",
    "    elif file_path.endswith(\".png\"):\n",
    "        image = Image.open(file_path)\n",
    "        return pytesseract.image_to_string(image)\n",
    "    return \"\"\n",
    "\n",
    "# QA pipeline\n",
    "def ask_metadata(text):\n",
    "    results = {}\n",
    "    for question in QUESTIONS:\n",
    "        try:\n",
    "            answer = qa_model(question=question, context=text)['answer']\n",
    "        except:\n",
    "            answer = \"Not found\"\n",
    "        results[question] = answer\n",
    "    return results\n",
    "\n",
    "# Create FastAPI app\n",
    "app = FastAPI()\n",
    "\n",
    "@app.post(\"/extract/\")\n",
    "async def extract_metadata(file: UploadFile = File(...)):\n",
    "    temp_path = f\"temp_{file.filename}\"\n",
    "    with open(temp_path, \"wb\") as f:\n",
    "        f.write(await file.read())\n",
    "    \n",
    "    text = extract_text(temp_path)\n",
    "    metadata = ask_metadata(text)\n",
    "    os.remove(temp_path)\n",
    "    \n",
    "    return JSONResponse(content=metadata)\n"
   ]
  },
  {
   "cell_type": "code",
   "execution_count": null,
   "id": "d79ffa22-2b01-4ef1-be9b-5c9e952b7705",
   "metadata": {},
   "outputs": [
    {
     "name": "stderr",
     "output_type": "stream",
     "text": [
      "INFO:     Started server process [12852]\n",
      "INFO:     Waiting for application startup.\n",
      "INFO:     Application startup complete.\n",
      "INFO:     Uvicorn running on http://127.0.0.1:8000 (Press CTRL+C to quit)\n"
     ]
    },
    {
     "name": "stdout",
     "output_type": "stream",
     "text": [
      "INFO:     127.0.0.1:59029 - \"GET / HTTP/1.1\" 404 Not Found\n",
      "INFO:     127.0.0.1:59269 - \"GET /docs HTTP/1.1\" 200 OK\n",
      "INFO:     127.0.0.1:59269 - \"GET /openapi.json HTTP/1.1\" 200 OK\n",
      "INFO:     127.0.0.1:59282 - \"POST /extract/ HTTP/1.1\" 200 OK\n",
      "INFO:     127.0.0.1:59288 - \"POST /extract/ HTTP/1.1\" 200 OK\n",
      "INFO:     127.0.0.1:59348 - \"GET /docs HTTP/1.1\" 200 OK\n",
      "INFO:     127.0.0.1:59348 - \"GET /openapi.json HTTP/1.1\" 200 OK\n"
     ]
    }
   ],
   "source": [
    "# Run the FastAPI server from within Jupyter\n",
    "uvicorn.run(app, host=\"127.0.0.1\", port=8000)\n"
   ]
  },
  {
   "cell_type": "code",
   "execution_count": null,
   "id": "41c44886-b9f8-46f3-8f60-48acbd5f454e",
   "metadata": {},
   "outputs": [],
   "source": []
  }
 ],
 "metadata": {
  "kernelspec": {
   "display_name": "Python [conda env:base] *",
   "language": "python",
   "name": "conda-base-py"
  },
  "language_info": {
   "codemirror_mode": {
    "name": "ipython",
    "version": 3
   },
   "file_extension": ".py",
   "mimetype": "text/x-python",
   "name": "python",
   "nbconvert_exporter": "python",
   "pygments_lexer": "ipython3",
   "version": "3.12.7"
  }
 },
 "nbformat": 4,
 "nbformat_minor": 5
}
